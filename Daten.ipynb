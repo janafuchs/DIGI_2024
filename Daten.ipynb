{
 "cells": [
  {
   "cell_type": "markdown",
   "id": "7645400a",
   "metadata": {},
   "source": [
    "# Verarbeitung, Analyse und Darstellung von Daten \n",
    "\n",
    "Python Bibliotheken (alle eignen sich hervorragend für die Verarbeitung sehr großer Datensätze):\n",
    "\n",
    "Schnelle Datenanalyse und -manipulation - Pandas:\n",
    "https://pandas.pydata.org/docs/\n",
    "\n",
    "Bibliothek zur Datenvisualisierung insbesondere für statistische Grafiken - Seaborn:\n",
    "https://seaborn.pydata.org/\n",
    "\n",
    "Leistungsstarke Bibliothek für wissenschaftliches Rechnen - NumPy:\n",
    "https://numpy.org/\n",
    "\n",
    "Leistungsstarke Bibliothek mit grundlegenden Algorithmen für wissenschaftliches Rechnen:\n",
    "https://scipy.org/\n",
    "\n",
    "Datensatz der ZAMG - Zentralanstalt für Meteorologie und Geodynamik:\n",
    "https://data.hub.zamg.ac.at/"
   ]
  },
  {
   "cell_type": "code",
   "id": "5609f75d",
   "metadata": {
    "jupyter": {
     "is_executing": true
    }
   },
   "source": [
    "import pandas as pd\n",
    "import numpy as np\n",
    "import seaborn as sns\n",
    "sns.set_theme(style=\"whitegrid\")\n",
    "import scipy.stats as sp\n",
    "import matplotlib.pyplot as plt"
   ],
   "outputs": [],
   "execution_count": null
  },
  {
   "cell_type": "markdown",
   "id": "e53e8e39",
   "metadata": {},
   "source": [
    "Daten lesen"
   ]
  },
  {
   "cell_type": "code",
   "id": "6b426d06",
   "metadata": {
    "scrolled": true
   },
   "source": [
    "pfad = \"ZAMG_GRAZ_Datensatz_20000101_20221207.csv\"\n",
    "df=pd.read_csv(pfad, parse_dates=['time'])\n",
    "df=df.set_index('time')\n",
    "df.head()"
   ],
   "outputs": [],
   "execution_count": null
  },
  {
   "cell_type": "markdown",
   "id": "066fbc31",
   "metadata": {},
   "source": [
    "Daten bereinigen"
   ]
  },
  {
   "cell_type": "code",
   "id": "b8f176ef",
   "metadata": {},
   "source": "df.dropna(axis=1, how='any')",
   "outputs": [],
   "execution_count": null
  },
  {
   "cell_type": "code",
   "id": "9bd4f72f-27d2-4c61-bd65-fb44e152daab",
   "metadata": {},
   "source": [
    "df"
   ],
   "outputs": [],
   "execution_count": null
  },
  {
   "cell_type": "markdown",
   "id": "5da6a20a",
   "metadata": {},
   "source": [
    "Was bedeuten die Kürzel? - Metadaten"
   ]
  },
  {
   "cell_type": "code",
   "id": "01ea4b93",
   "metadata": {},
   "source": [
    "pfad_metadaten = \"ZAMG_Parameter-Metadaten.csv\"\n",
    "df_meta=pd.read_csv(pfad_metadaten, quotechar = '*')\n",
    "df_meta"
   ],
   "outputs": [],
   "execution_count": null
  },
  {
   "cell_type": "code",
   "id": "72b60721",
   "metadata": {},
   "source": [
    "pd.set_option('display.max_colwidth', None)                        #Zeigt gesamte Spalte"
   ],
   "outputs": [],
   "execution_count": null
  },
  {
   "cell_type": "code",
   "id": "dc518fa4",
   "metadata": {},
   "source": [
    "df_meta[df_meta[\"Identifier\"]==\"D6X\"]"
   ],
   "outputs": [],
   "execution_count": null
  },
  {
   "cell_type": "code",
   "id": "d3fc2319",
   "metadata": {},
   "source": [
    "df.columns"
   ],
   "outputs": [],
   "execution_count": null
  },
  {
   "cell_type": "code",
   "id": "adb7d212",
   "metadata": {},
   "source": [
    "df_meta[df_meta[\"Identifier\"].isin(df.columns)]"
   ],
   "outputs": [],
   "execution_count": null
  },
  {
   "cell_type": "markdown",
   "id": "439dc8fc",
   "metadata": {},
   "source": [
    "Datenanalyse mit Pandas - deskriptive Statistik"
   ]
  },
  {
   "cell_type": "code",
   "id": "43f590af",
   "metadata": {},
   "source": [
    "df.describe()"
   ],
   "outputs": [],
   "execution_count": null
  },
  {
   "cell_type": "markdown",
   "id": "7958e761",
   "metadata": {},
   "source": [
    "Wann gab es Niederschlag über 30mm pro Stunde?"
   ]
  },
  {
   "cell_type": "code",
   "id": "9d70c17d",
   "metadata": {},
   "source": [
    "len(df[df['RSX']==0])"
   ],
   "outputs": [],
   "execution_count": null
  },
  {
   "cell_type": "code",
   "id": "f44ff8cc",
   "metadata": {},
   "source": [
    "len(df[df['RSX']<0.0000001])/165496"
   ],
   "outputs": [],
   "execution_count": null
  },
  {
   "cell_type": "markdown",
   "id": "301a93e0",
   "metadata": {},
   "source": [
    "Visualisieren"
   ]
  },
  {
   "cell_type": "code",
   "id": "463bdafe",
   "metadata": {},
   "source": [
    "df[['TTX', 'TT3']]['2020-2':'2022-3'].plot()"
   ],
   "outputs": [],
   "execution_count": null
  },
  {
   "cell_type": "code",
   "id": "4df76b33",
   "metadata": {},
   "source": [
    "histogramm=sns.histplot([df['TTX']],binwidth=1, stat=\"count\")\n",
    "histogramm.set_xlabel(\"Temperatur\")\n",
    "histogramm.set_ylabel(\"Anzahl der Werte in der jeweiligen Klasse\")"
   ],
   "outputs": [],
   "execution_count": null
  },
  {
   "cell_type": "code",
   "id": "2faf5258",
   "metadata": {
    "scrolled": true
   },
   "source": [
    "histogramm=sns.histplot([df['TTX']],binwidth=1, stat=\"density\")\n",
    "histogramm.set_xlabel(\"Temperatur\")\n",
    "histogramm.set_ylabel(\"Relative Häufigkeitsdichte\")"
   ],
   "outputs": [],
   "execution_count": null
  },
  {
   "cell_type": "code",
   "id": "6cebbcde",
   "metadata": {},
   "source": [
    "histogramm=sns.histplot([df['TTX']],binwidth=1, stat=\"percent\")\n",
    "histogramm.set_xlabel(\"Temperatur\")\n",
    "histogramm.set_ylabel(\"Werte in der jeweiligen Klasse in Prozent\")"
   ],
   "outputs": [],
   "execution_count": null
  },
  {
   "cell_type": "markdown",
   "id": "6febcb70",
   "metadata": {},
   "source": [
    "Datenlücke"
   ]
  },
  {
   "cell_type": "code",
   "id": "a42a748b",
   "metadata": {
    "scrolled": true
   },
   "source": [
    "df['TTX'].plot()"
   ],
   "outputs": [],
   "execution_count": null
  },
  {
   "cell_type": "markdown",
   "id": "5c2c658e",
   "metadata": {},
   "source": [
    "Zeitreihen Resampling - Datengranularität"
   ]
  },
  {
   "cell_type": "code",
   "id": "269054c6",
   "metadata": {},
   "source": "df_TTX = df['TTX'].resample('ME').mean()",
   "outputs": [],
   "execution_count": null
  },
  {
   "cell_type": "code",
   "id": "4f990a33",
   "metadata": {},
   "source": [
    "df_TTX['2020-2':'2022-3'].plot(marker='o')"
   ],
   "outputs": [],
   "execution_count": null
  },
  {
   "cell_type": "code",
   "id": "cdf73ad3",
   "metadata": {},
   "source": [
    "df_RSX = df['RSX'].resample('ME').sum()\n",
    "df_RSX['2020-2':'2022-3'].plot(marker='o')"
   ],
   "outputs": [],
   "execution_count": null
  },
  {
   "metadata": {},
   "cell_type": "markdown",
   "source": "Daten speichern",
   "id": "56523b771925662a"
  },
  {
   "metadata": {},
   "cell_type": "code",
   "source": "df_dymola = df.loc[\"2020-12\"]",
   "id": "c7d3877f2ed506dc",
   "outputs": [],
   "execution_count": null
  },
  {
   "metadata": {},
   "cell_type": "code",
   "source": "df_dymola.LT2.plot()",
   "id": "db3db31d064adf8c",
   "outputs": [],
   "execution_count": null
  },
  {
   "metadata": {},
   "cell_type": "code",
   "source": "df_dymola[\"LT2\"].fillna(0).plot()",
   "id": "20224400682a086b",
   "outputs": [],
   "execution_count": null
  },
  {
   "metadata": {},
   "cell_type": "code",
   "source": "df_dymola[\"LT2\"].bfill().plot()",
   "id": "c58410ffc5ad69b0",
   "outputs": [],
   "execution_count": null
  },
  {
   "metadata": {},
   "cell_type": "code",
   "source": "df_dymola[\"LT2\"].ffill().plot()",
   "id": "6693ff1069fd7b79",
   "outputs": [],
   "execution_count": null
  },
  {
   "metadata": {},
   "cell_type": "code",
   "source": "df_dymola[\"LT2\"].interpolate(method=\"polynomial\", order=2).plot()",
   "id": "4850895342047f6c",
   "outputs": [],
   "execution_count": null
  },
  {
   "metadata": {},
   "cell_type": "code",
   "source": "df_dymola = df_dymola.interpolate(method=\"polynomial\", order=2)",
   "id": "fccb4fc226c5d2ac",
   "outputs": [],
   "execution_count": null
  },
  {
   "metadata": {},
   "cell_type": "code",
   "source": "df.to_csv(\"ZAMG_GRAZ_Datensatz_20000101_20221207.txt\")",
   "id": "db42f8e1cac6f91d",
   "outputs": [],
   "execution_count": null
  },
  {
   "metadata": {},
   "cell_type": "markdown",
   "source": "Datenformat UNIX Zeitstempel: Anzahl der seit dem 1. Januar 1970, 00:00:00 UTC, verstrichenen Sekunden ",
   "id": "ba1950b59112d3bd"
  },
  {
   "metadata": {},
   "cell_type": "code",
   "source": [
    "df_dymola = df_dymola.assign(unix_timestamp = df_dymola.index)\n",
    "df_dymola.unix_timestamp = df_dymola.unix_timestamp.apply(lambda x: x.timestamp())\n",
    "df_dymola = df_dymola.set_index(\"unix_timestamp\")"
   ],
   "id": "f4db774fa125155f",
   "outputs": [],
   "execution_count": null
  },
  {
   "metadata": {},
   "cell_type": "code",
   "source": "df_dymola.to_csv(\"ZAMG_GRAZ_Datensatz_20000101_20221207.txt\", sep=\" \")",
   "id": "9edc35523f517a8b",
   "outputs": [],
   "execution_count": null
  },
  {
   "metadata": {},
   "cell_type": "code",
   "source": [
    "f = open(\"ZAMG_GRAZ_Datensatz_20000101_20221207.txt\",\"r+\")\n",
    "lines = f.readlines() # lese File\n",
    "f.seek(0) # zurück zum Anfang\n",
    "f.write(\"#1\\n\") # Schreibe neue Zeile\n",
    "f.write(\"double ZAMGdata\"+str(df_dymola.shape)+\" #\") # Schreibe neue Zeile\n",
    "for line in lines: # Schreibe ursprünglichen Inhalt\n",
    "    f.write(line)\n",
    "f.close()"
   ],
   "id": "348c3890ad45d81e",
   "outputs": [],
   "execution_count": null
  },
  {
   "cell_type": "markdown",
   "id": "af24abfd",
   "metadata": {},
   "source": [
    "Datenanalyse - Linearer Fit"
   ]
  },
  {
   "cell_type": "code",
   "id": "99000701-f0d8-460c-a399-dc4cb83371fc",
   "metadata": {},
   "source": [
    "y=np.array(df['TTX'].dropna().values, dtype=float)\n",
    "x=np.array(pd.to_datetime(df['TTX'].dropna()).index.values, dtype=float)\n",
    "slope, intercept, r_value, p_value, std_err =sp.linregress(x,y)\n",
    "xf = np.linspace(min(x),max(x),100)\n",
    "xf1 = xf.copy()\n",
    "xf1 = pd.to_datetime(xf1)\n",
    "yf = (slope*xf)+intercept"
   ],
   "outputs": [],
   "execution_count": null
  },
  {
   "cell_type": "code",
   "id": "7837ef8d",
   "metadata": {},
   "source": [
    "f, ax = plt.subplots(1, 1)\n",
    "df['TTX'].dropna().plot(ax=ax,marker='.', ls='')\n",
    "ax.plot(xf1, yf,label='Linear fit', lw=3)\n",
    "plt.ylabel('Temperatur')\n",
    "ax.legend();"
   ],
   "outputs": [],
   "execution_count": null
  },
  {
   "cell_type": "markdown",
   "id": "e57c829f",
   "metadata": {},
   "source": [
    "Wie viel ist die mittlere Lufttemperatur in 2m Höhe vor der Uni Graz seit 2000 gestiegen?"
   ]
  },
  {
   "cell_type": "code",
   "id": "2ed03478",
   "metadata": {},
   "source": [
    "yf[-1]-yf[0]"
   ],
   "outputs": [],
   "execution_count": null
  },
  {
   "cell_type": "markdown",
   "id": "8d092a94",
   "metadata": {},
   "source": [
    "Regressionsanalyse und Ausreißer"
   ]
  },
  {
   "cell_type": "code",
   "id": "c124bceb",
   "metadata": {},
   "source": [
    "anscombe = sns.load_dataset(\"anscombe\")"
   ],
   "outputs": [],
   "execution_count": null
  },
  {
   "cell_type": "code",
   "id": "4b4b260d",
   "metadata": {
    "jupyter": {
     "is_executing": true
    }
   },
   "source": [
    "sns.lmplot(x=\"x\", y=\"y\", data=anscombe.query(\"dataset == 'III'\"), ci=None)"
   ],
   "outputs": [],
   "execution_count": null
  },
  {
   "cell_type": "code",
   "id": "66f18a39",
   "metadata": {
    "jupyter": {
     "is_executing": true
    }
   },
   "source": [
    "sns.lmplot(x=\"x\", y=\"y\", data=anscombe.query(\"dataset == 'III'\"), ci=None, robust=True)"
   ],
   "outputs": [],
   "execution_count": null
  },
  {
   "cell_type": "markdown",
   "id": "e2257c95-b529-4b22-ab80-19db982c32e3",
   "metadata": {},
   "source": [
    "#### Endenergieverbrauch in Österreich in TJ 1970-2021\n",
    "\n",
    "Quelle: Statistik Austria (https://www.statistik.at/)\n"
   ]
  },
  {
   "cell_type": "code",
   "id": "638b7caa",
   "metadata": {
    "jupyter": {
     "is_executing": true
    }
   },
   "source": [
    "energie = pd.read_excel(\"Energieendverbrauch.xlsx\",skiprows=9,skipfooter=8,index_col=1)\n",
    "energie.drop('Zeit', axis=1, inplace=True)\n",
    "energie.drop('Bilanzaggregat', axis=0, inplace=True)\n",
    "energie = energie.loc[energie.index.notnull()]\n",
    "energie.drop('Energetischer Endverbrauch (EE)', axis=0, inplace=True)\n",
    "energie = energie.transpose().sort_index().astype(float)\n",
    "energie.index.name = 'Zeit [Jahre]'\n",
    "energie.index = energie.index.astype(float)"
   ],
   "outputs": [],
   "execution_count": null
  },
  {
   "cell_type": "code",
   "id": "271d4b2e-eae3-43ff-bf56-1c416ca0ab3e",
   "metadata": {
    "jupyter": {
     "is_executing": true
    }
   },
   "source": [
    "energie.head()"
   ],
   "outputs": [],
   "execution_count": null
  },
  {
   "cell_type": "code",
   "id": "983312e1-1f9e-46d3-a323-c29f2315f5af",
   "metadata": {
    "jupyter": {
     "is_executing": true
    }
   },
   "source": [
    "energie.describe().transpose()"
   ],
   "outputs": [],
   "execution_count": null
  },
  {
   "cell_type": "code",
   "id": "2907e789-787b-426d-a2fc-b4fdc62c03b0",
   "metadata": {
    "jupyter": {
     "is_executing": true
    }
   },
   "source": [
    "energie.plot(figsize=(10,6),ylabel='Endenergieverbrauch [TJ]', title='Endenergieverbrauch Österreich 1970-2021', xlabel='Zeit [Jahre]').legend(loc='center left',bbox_to_anchor=(1.0, 0.5));"
   ],
   "outputs": [],
   "execution_count": null
  },
  {
   "cell_type": "markdown",
   "id": "9b7f9752-d8c0-4143-8a22-48631881b0a7",
   "metadata": {},
   "source": [
    "Boxplot"
   ]
  },
  {
   "cell_type": "code",
   "id": "38ecc160-1b07-47dc-952c-75dfb3e0a075",
   "metadata": {
    "jupyter": {
     "is_executing": true
    }
   },
   "source": [
    "boxplot = sns.boxplot(data=energie, orient='h')\n",
    "boxplot.set_xlabel(\"Endenergieverbrauch [TJ]\")"
   ],
   "outputs": [],
   "execution_count": null
  }
 ],
 "metadata": {
  "kernelspec": {
   "display_name": "Python 3 (ipykernel)",
   "language": "python",
   "name": "python3"
  },
  "language_info": {
   "codemirror_mode": {
    "name": "ipython",
    "version": 3
   },
   "file_extension": ".py",
   "mimetype": "text/x-python",
   "name": "python",
   "nbconvert_exporter": "python",
   "pygments_lexer": "ipython3",
   "version": "3.10.5"
  }
 },
 "nbformat": 4,
 "nbformat_minor": 5
}
