{
 "cells": [
  {
   "attachments": {},
   "cell_type": "markdown",
   "id": "2257b8e0",
   "metadata": {},
   "source": [
    "# Beispiel: Lademanagement eines Speichers für Eigenbedarfsoptimierung"
   ]
  },
  {
   "cell_type": "markdown",
   "id": "78e3df61",
   "metadata": {},
   "source": [
    "#### Imports"
   ]
  },
  {
   "cell_type": "code",
   "id": "46d49baf",
   "metadata": {},
   "source": [
    "%pip install pandas\n",
    "%pip install numpy\n",
    "%pip install openpyxl\n",
    "import pandas as pd\n",
    "import numpy as np"
   ],
   "outputs": [],
   "execution_count": null
  },
  {
   "cell_type": "markdown",
   "id": "24ab5ce4",
   "metadata": {},
   "source": [
    "#### Daten lesen"
   ]
  },
  {
   "cell_type": "code",
   "id": "5b0b0964",
   "metadata": {},
   "source": [
    "pfad = \"PV+Speicher_EV-Opt.xlsx\"\n",
    "data = pd.read_excel(pfad,sheet_name=\"Aufgabe\", names=[\"t\",\"P_e_rel\",\"P_v\"], \n",
    "                     usecols=\"A:C\", skiprows=28, parse_dates=['t'])\n",
    "data=data.set_index('t')\n",
    "data.P_e_rel = data.P_e_rel/1000"
   ],
   "outputs": [],
   "execution_count": null
  },
  {
   "cell_type": "markdown",
   "id": "2b8df25f",
   "metadata": {},
   "source": [
    "#### Parameter\n",
    "\n",
    "P_Nenn ... Leistung unter Standard Testbedingungen [W] (oft ugs. [Wp])\n",
    "\n",
    "C ... Speicherkapazität [Wh]\n",
    "\n",
    "eta ... Speicherwirkungsgrad \n",
    "\n",
    "selb ... Selbstentladung pro Monat \n",
    "\n",
    "dt ... Zeitschritt [h]\n"
   ]
  },
  {
   "cell_type": "code",
   "id": "6f9abd4d",
   "metadata": {},
   "source": [
    "P_Nenn= 6000\n",
    "C = 5000\n",
    "eta = 0.9\n",
    "selb = 0.05\n",
    "dt = 1\n",
    "\n",
    "# Erzeugte Leitstung berechnen\n",
    "data[\"P_e\"] = data.P_e_rel*P_Nenn\n",
    "\n",
    "# Differenz erzeugte und verbrauchte Leistung\n",
    "data[\"P_diff\"] = data.P_v-data.P_e"
   ],
   "outputs": [],
   "execution_count": null
  },
  {
   "cell_type": "code",
   "id": "4d543418",
   "metadata": {},
   "source": [
    "#data = data.resample('4h').mean()\n",
    "#dt = 4"
   ],
   "outputs": [],
   "execution_count": null
  },
  {
   "cell_type": "code",
   "id": "c2fcf3a4",
   "metadata": {},
   "source": [
    "data[[\"P_v\",\"P_e\"]].plot(ylabel = \"P [W]\")"
   ],
   "outputs": [],
   "execution_count": null
  },
  {
   "cell_type": "code",
   "id": "9be11fc8",
   "metadata": {},
   "source": [
    "data[[\"P_v\",\"P_e\"]].loc[\"2019-6-1\":\"2019-6-7\"].plot(ylabel = \"P [W]\")"
   ],
   "outputs": [],
   "execution_count": null
  },
  {
   "cell_type": "code",
   "id": "c111bcf6",
   "metadata": {},
   "source": [
    "data[[\"P_v\",\"P_e\"]].loc[\"2019-6-6\"].plot(ylabel = \"P [W]\")"
   ],
   "outputs": [],
   "execution_count": null
  },
  {
   "cell_type": "code",
   "id": "5f7722a0",
   "metadata": {},
   "source": [
    "data[[\"P_v\",\"P_e\",\"P_diff\"]].describe()"
   ],
   "outputs": [],
   "execution_count": null
  },
  {
   "cell_type": "markdown",
   "id": "368549b5",
   "metadata": {},
   "source": [
    "#### Simulation"
   ]
  },
  {
   "cell_type": "code",
   "id": "a4b02604",
   "metadata": {},
   "source": [
    "#Selbstentladung pro dt berechnen\n",
    "P_selb_max = C * selb * 1/30/24 * dt \n",
    "#maximale Ladeleistung/Entladeleistung pro dt\n",
    "P_laden_max = C / dt\n",
    "#Initialisieren - Anfangswert\n",
    "Q_alt = 0 \n",
    "Q_arr = []\n",
    "P_ein_arr = []\n",
    "P_aus_arr = []\n",
    "P_abw_netz_arr = []\n",
    "P_abw_ein_arr = []\n",
    "\n",
    "for t in data.index:\n",
    "    P_selb = np.min([P_selb_max, data.P_e.loc[t]])\n",
    "    P_soll = data.P_v.loc[t] - data.P_e.loc[t]\n",
    "    if P_soll <= 0:\n",
    "        P_ein = np.min([-P_soll, P_laden_max, (C-Q_alt+P_selb*dt)/(eta*dt)])\n",
    "        P_aus = 0\n",
    "        P_abw_ein = - P_soll - P_ein\n",
    "        P_abw_netz = 0\n",
    "        Q_neu = Q_alt + eta * P_ein * dt\n",
    "    else:\n",
    "        P_aus = np.min([P_soll, P_laden_max, Q_alt/dt])\n",
    "        P_ein = 0\n",
    "        P_abw_netz = P_soll - P_aus\n",
    "        P_abw_ein = 0\n",
    "        Q_neu = Q_alt - P_aus * dt\n",
    "    Q_neu = np.max([Q_neu - P_selb * dt, 0])\n",
    "    Q_arr.append(Q_neu)\n",
    "    P_ein_arr.append(P_ein)\n",
    "    P_aus_arr.append(P_aus)\n",
    "    P_abw_netz_arr.append(P_abw_netz)\n",
    "    P_abw_ein_arr.append(P_abw_ein)\n",
    "\n",
    "    Q_alt = Q_neu\n",
    "    \n",
    "\n",
    "\n",
    "results = pd.DataFrame({\"Q\":Q_arr, \"P_ein\":P_ein_arr, \"P_aus\":P_aus_arr, \n",
    "                        \"P_netz\":P_abw_netz_arr, \"P_einsp\":P_abw_ein_arr}, index = data.index)\n",
    "results[\"P_direkt\"] = data[[\"P_v\",\"P_e\"]].min(axis=1)"
   ],
   "outputs": [],
   "execution_count": null
  },
  {
   "cell_type": "markdown",
   "id": "0b03e980",
   "metadata": {},
   "source": [
    "#### Validierungs Check"
   ]
  },
  {
   "cell_type": "code",
   "id": "3f376745",
   "metadata": {},
   "source": [
    "results.Q.loc[\"2019-6-21\":\"2019-6-30\"].plot(ylabel = \"Q [Wh]\")"
   ],
   "outputs": [],
   "execution_count": null
  },
  {
   "cell_type": "code",
   "id": "aaf6724f",
   "metadata": {},
   "source": [
    "results[[\"P_ein\", \"P_aus\", \"P_netz\", \"P_einsp\", \"P_direkt\"]].loc[\"2019-6-21\":\"2019-6-30\"].plot(ylabel = \"P [W]\")"
   ],
   "outputs": [],
   "execution_count": null
  },
  {
   "cell_type": "code",
   "id": "4de0465a",
   "metadata": {},
   "source": [
    "ax = results[[\"P_ein\", \"P_aus\", \"P_netz\", \"P_einsp\", \"P_direkt\"]].resample('m').mean().plot()\n",
    "data[[\"P_e\", \"P_v\"]].resample('m').mean().plot(ax=ax, ylabel=\"P[W]\", title = \"Monatsmittelwerte\")"
   ],
   "outputs": [],
   "execution_count": null
  },
  {
   "cell_type": "markdown",
   "id": "f81c9935",
   "metadata": {},
   "source": [
    "#### Monatssummen in kWh"
   ]
  },
  {
   "cell_type": "code",
   "id": "264c34c8",
   "metadata": {
    "scrolled": true
   },
   "source": [
    "results[[\"P_ein\", \"P_aus\", \"P_netz\", \"P_einsp\", \"P_direkt\"]].resample('m').sum().multiply(dt/1000)"
   ],
   "outputs": [],
   "execution_count": null
  },
  {
   "cell_type": "code",
   "id": "997e4459",
   "metadata": {},
   "source": [
    "data[[\"P_v\", \"P_e\"]].resample('m').sum().multiply(dt/1000)"
   ],
   "outputs": [],
   "execution_count": null
  },
  {
   "cell_type": "code",
   "id": "a88c59b8",
   "metadata": {},
   "source": [
    "results[[\"P_ein\", \"P_aus\", \"P_netz\", \"P_einsp\", \"P_direkt\"]].sum().multiply(dt/1000)"
   ],
   "outputs": [],
   "execution_count": null
  },
  {
   "cell_type": "code",
   "id": "3b3dc4c8",
   "metadata": {},
   "source": [
    "data[[\"P_v\", \"P_e\"]].sum().multiply(dt/1000)"
   ],
   "outputs": [],
   "execution_count": null
  },
  {
   "cell_type": "markdown",
   "id": "4f2e45b8",
   "metadata": {},
   "source": [
    "#### KPIs"
   ]
  },
  {
   "cell_type": "markdown",
   "id": "af2f8aa2",
   "metadata": {},
   "source": [
    "Eigenverbrauch in kWh"
   ]
  },
  {
   "cell_type": "code",
   "id": "e530c655",
   "metadata": {},
   "source": [
    "ev = (data.P_v.sum()-results.P_netz.sum())*dt/1000\n",
    "ev"
   ],
   "outputs": [],
   "execution_count": null
  },
  {
   "cell_type": "markdown",
   "id": "d5205318",
   "metadata": {},
   "source": [
    "Eigenverbrauchsquote EVQ"
   ]
  },
  {
   "cell_type": "code",
   "id": "fdc255e7",
   "metadata": {},
   "source": [
    "ev/(data.P_e.sum()*dt/1000)"
   ],
   "outputs": [],
   "execution_count": null
  },
  {
   "attachments": {},
   "cell_type": "markdown",
   "id": "b0613d3f",
   "metadata": {},
   "source": [
    "Solarer Deckungsgrad SDQ"
   ]
  },
  {
   "cell_type": "code",
   "id": "80e0b9ba",
   "metadata": {},
   "source": [
    "ev/(data.P_v.sum()*dt/1000)"
   ],
   "outputs": [],
   "execution_count": null
  },
  {
   "cell_type": "markdown",
   "id": "5b4b3cea",
   "metadata": {},
   "source": [
    "Ladezyklen"
   ]
  },
  {
   "cell_type": "code",
   "id": "51084fcc",
   "metadata": {},
   "source": [
    "results.P_aus.sum()*dt/C"
   ],
   "outputs": [],
   "execution_count": null
  },
  {
   "cell_type": "code",
   "id": "6f14133d",
   "metadata": {},
   "source": [],
   "outputs": [],
   "execution_count": null
  }
 ],
 "metadata": {
  "kernelspec": {
   "display_name": "Python 3 (ipykernel)",
   "language": "python",
   "name": "python3"
  },
  "language_info": {
   "codemirror_mode": {
    "name": "ipython",
    "version": 3
   },
   "file_extension": ".py",
   "mimetype": "text/x-python",
   "name": "python",
   "nbconvert_exporter": "python",
   "pygments_lexer": "ipython3",
   "version": "3.10.5"
  }
 },
 "nbformat": 4,
 "nbformat_minor": 5
}
